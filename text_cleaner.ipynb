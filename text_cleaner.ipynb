{
 "cells": [
  {
   "cell_type": "code",
   "execution_count": 1,
   "metadata": {},
   "outputs": [],
   "source": [
    "import re"
   ]
  },
  {
   "cell_type": "code",
   "execution_count": 4,
   "metadata": {},
   "outputs": [],
   "source": [
    "def clean_text(text):\n",
    "    \"\"\"\n",
    "    Apply any additional cleaning rules you might need.\n",
    "    \"\"\"\n",
    "    # Remove unwanted characters, correct common encoding issues, etc.\n",
    "    text = re.sub(r'[^\\x00-\\x7F]+', ' ', text)  # Remove non-ASCII characters\n",
    "    text = re.sub(r'\\s+', ' ', text).strip()  # Replace multiple whitespace with single space\n",
    "    return text\n",
    "\n",
    "def remove_duplicate_sections(text, delimiter='\\n'):\n",
    "    \"\"\"\n",
    "    Remove duplicate sections. This function assumes sections are separated by two newlines.\n",
    "    Adjust the delimiter as needed based on your text structure.\n",
    "    \"\"\"\n",
    "    seen = set()\n",
    "    sections = text.split(delimiter)\n",
    "    unique_sections = []\n",
    "\n",
    "    for section in sections:\n",
    "        cleaned_section = clean_text(section)\n",
    "        if cleaned_section not in seen:\n",
    "            seen.add(cleaned_section)\n",
    "            unique_sections.append(cleaned_section)\n",
    "\n",
    "    return delimiter.join(unique_sections)\n",
    "\n",
    "def clean_file(input_file_path, output_file_path):\n",
    "    with open(input_file_path, 'r', encoding='utf-8') as input_file, \\\n",
    "         open(output_file_path, 'w', encoding='utf-8') as output_file:\n",
    "\n",
    "        content = input_file.read()  # Read the entire content; consider line-by-line for very large files\n",
    "        content = remove_duplicate_sections(content)\n",
    "\n",
    "        output_file.write(content)"
   ]
  },
  {
   "cell_type": "code",
   "execution_count": 5,
   "metadata": {},
   "outputs": [],
   "source": [
    "# Example usage\n",
    "input_file_path = 'scraped_text_copy.txt'\n",
    "output_file_path = 'scraped_text_copy_cleaned_file.txt'\n",
    "clean_file(input_file_path, output_file_path)"
   ]
  },
  {
   "cell_type": "code",
   "execution_count": 8,
   "metadata": {},
   "outputs": [
    {
     "name": "stdout",
     "output_type": "stream",
     "text": [
      "87756764\n",
      "20288062\n"
     ]
    }
   ],
   "source": [
    "input_file_path = 'scraped_text_copy.txt'\n",
    "with open(input_file_path, 'r', encoding='utf-8') as input_file:\n",
    "    content = input_file.read()\n",
    "    print(len(content))\n",
    "        \n",
    "input_file_path = 'scraped_text_copy_cleaned_file.txt'\n",
    "with open(input_file_path, 'r', encoding='utf-8') as input_file:\n",
    "    content = input_file.read()\n",
    "    print(len(content))"
   ]
  }
 ],
 "metadata": {
  "kernelspec": {
   "display_name": "Python 3",
   "language": "python",
   "name": "python3"
  },
  "language_info": {
   "codemirror_mode": {
    "name": "ipython",
    "version": 3
   },
   "file_extension": ".py",
   "mimetype": "text/x-python",
   "name": "python",
   "nbconvert_exporter": "python",
   "pygments_lexer": "ipython3",
   "version": "3.10.0"
  }
 },
 "nbformat": 4,
 "nbformat_minor": 2
}
